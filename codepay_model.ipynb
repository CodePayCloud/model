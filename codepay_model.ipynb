{
  "nbformat": 4,
  "nbformat_minor": 0,
  "metadata": {
    "colab": {
      "provenance": [],
      "name": "codepay_model.ipynb",
      "authorship_tag": "ABX9TyOcv9E/i5l00fPQQX/e66IR",
      "include_colab_link": true
    },
    "kernelspec": {
      "name": "python3",
      "display_name": "Python 3"
    },
    "language_info": {
      "name": "python"
    },
    "accelerator": "TPU"
  },
  "cells": [
    {
      "cell_type": "markdown",
      "metadata": {
        "id": "view-in-github",
        "colab_type": "text"
      },
      "source": [
        "<a href=\"https://colab.research.google.com/github/CodePayCloud/model/blob/main/codepay_model.ipynb\" target=\"_parent\"><img src=\"https://colab.research.google.com/assets/colab-badge.svg\" alt=\"Open In Colab\"/></a>"
      ]
    },
    {
      "cell_type": "markdown",
      "source": [
        "# CodePay Base Model"
      ],
      "metadata": {
        "id": "yyDHCT6Z5N2F"
      }
    },
    {
      "cell_type": "markdown",
      "source": [
        "\n",
        "## Base Model Inputs\n",
        "\n",
        "*   User Inputs\n",
        "*   User Upload\n",
        "*   Cloud Storage\n",
        "\n"
      ],
      "metadata": {
        "id": "0AerTKxY5wJc"
      }
    },
    {
      "cell_type": "code",
      "source": [
        "import requests\n",
        "import json\n",
        "from datetime import datetime, timedelta\n",
        "from google.colab import userdata\n",
        "\n",
        "# GitHub settings\n",
        "repo = 'npm/cli'\n",
        "token = userdata.get('GH_TOKEN')  # Fetching the GitHub token\n",
        "\n",
        "# Calculate the date one year ago from today\n",
        "one_year_ago = datetime.now() - timedelta(days=365)\n",
        "since_date = one_year_ago.strftime('%Y-%m-%d')\n",
        "\n",
        "# GitHub API URL for pull requests in the past year\n",
        "url = f'https://api.github.com/repos/{repo}/pulls?state=all&since={since_date}'\n",
        "\n",
        "pull_requests_data = []\n",
        "\n",
        "while True:\n",
        "    response = requests.get(url, headers={'Authorization': f'token {token}'})\n",
        "    if response.status_code != 200:\n",
        "        print(f\"Error: {response.status_code}\")\n",
        "        break\n",
        "\n",
        "    pull_requests = response.json()\n",
        "    for pr in pull_requests:\n",
        "        pr_data = {\n",
        "            'number': pr['number'],\n",
        "            'title': pr['title'],\n",
        "            'body': pr['body'],\n",
        "            'state': pr['state']\n",
        "        }\n",
        "        pull_requests_data.append(pr_data)\n",
        "\n",
        "    if 'next' in response.links:\n",
        "        url = response.links['next']['url']\n",
        "    else:\n",
        "        break\n",
        "\n",
        "# Saving data to a JSON file\n",
        "with open('npm_cli_pull_requests.json', 'w') as file:\n",
        "    json.dump(pull_requests_data, file)\n",
        "\n",
        "print(\"Data stored in npm_cli_pull_requests.json\")"
      ],
      "metadata": {
        "colab": {
          "base_uri": "https://localhost:8080/"
        },
        "id": "SlZXG4n7_9ti",
        "outputId": "48ee970f-1f4e-46be-cd0e-eb9f4a28a595"
      },
      "execution_count": null,
      "outputs": [
        {
          "output_type": "stream",
          "name": "stdout",
          "text": [
            "Data stored in npm_cli_pull_requests.json\n"
          ]
        }
      ]
    },
    {
      "cell_type": "markdown",
      "source": [
        "## Base Model Stack\n",
        "\n",
        "*   Python\n",
        "*   TF/Keras\n",
        "\n"
      ],
      "metadata": {
        "id": "vNZYuZ586EvR"
      }
    },
    {
      "cell_type": "markdown",
      "source": [
        "## **`Step 1:`** Installs"
      ],
      "metadata": {
        "id": "bPU4D7MI735G"
      }
    },
    {
      "cell_type": "code",
      "execution_count": null,
      "metadata": {
        "id": "drOIa6lUwgyU"
      },
      "outputs": [],
      "source": [
        "import os\n",
        "import subprocess\n",
        "import pkg_resources\n",
        "\n",
        "# Function to check if a package is installed\n",
        "def is_package_installed(package_name):\n",
        "    try:\n",
        "        pkg_resources.get_distribution(package_name)\n",
        "        return True\n",
        "    except pkg_resources.DistributionNotFound:\n",
        "        return False\n",
        "\n",
        "# Check if SpaCy is installed, and install if not\n",
        "if not is_package_installed('spacy'):\n",
        "    subprocess.run(['pip', 'install', 'spacy'])\n",
        "    subprocess.run(['python', '-m', 'spacy', 'download', 'en_core_web_sm'])\n",
        "\n",
        "!pip install -r requirements.txt"
      ]
    },
    {
      "cell_type": "markdown",
      "source": [
        "## **Step 2:** Import Libraries & Label PRs\n",
        "\n",
        "> PRs labeled by Bert\n",
        "\n"
      ],
      "metadata": {
        "id": "_RpzRCam765n"
      }
    },
    {
      "cell_type": "code",
      "source": [
        "from transformers import pipeline\n",
        "import numpy as np\n",
        "\n",
        "# Now you can create the classifier\n",
        "classifier = pipeline(\"text-classification\", model=\"bert-base-uncased\")\n",
        "\n",
        "# Load data from JSON file\n",
        "with open('npm_cli_pull_requests.json', 'r') as file:\n",
        "    pr_data = json.load(file)\n",
        "\n",
        "# Initialize lists to store texts, predicted labels, and weights\n",
        "texts = []\n",
        "predicted_labels = []\n",
        "weights = []\n",
        "\n",
        "# Create prompts and classify for the first 10 rows\n",
        "for pr in pr_data[:10]:\n",
        "    if pr['body'] is not None:\n",
        "        prompt = f\"Given the following title and description, would you classify this PR as a feature or bug?\\nDescription: {pr['body']}\"\n",
        "    else:\n",
        "        prompt = f\"Given the following title, would you classify this PR as a feature or bug?\\nTitle: {pr['title']}\"\n",
        "\n",
        "    # Use the classifier to predict the label ('feature' or 'bug') for the prompt\n",
        "    prediction = classifier(prompt)\n",
        "\n",
        "    # Extract the predicted label from the classifier's output\n",
        "    predicted_label = prediction[0]['label']\n",
        "\n",
        "    # Calculate the description length-based weight and its logarithm\n",
        "    description_length = len(pr['body']) if pr['body'] else 0\n",
        "    weight = 0.5 + (description_length / 1000)  # Adjust the scaling factor as needed\n",
        "    log_weight = np.log(weight)\n",
        "\n",
        "    # Append the text, predicted label, and log_weight to the respective lists\n",
        "    texts.append(prompt)\n",
        "    predicted_labels.append(predicted_label)\n",
        "    weights.append(log_weight)"
      ],
      "metadata": {
        "id": "kLP03ikg8XGG",
        "colab": {
          "base_uri": "https://localhost:8080/"
        },
        "outputId": "024c2d4b-dd00-4ee0-eb14-42e74719476a"
      },
      "execution_count": null,
      "outputs": [
        {
          "output_type": "stream",
          "name": "stderr",
          "text": [
            "Some weights of BertForSequenceClassification were not initialized from the model checkpoint at bert-base-uncased and are newly initialized: ['classifier.bias', 'classifier.weight']\n",
            "You should probably TRAIN this model on a down-stream task to be able to use it for predictions and inference.\n"
          ]
        }
      ]
    },
    {
      "cell_type": "markdown",
      "source": [
        "## **Step 2a:** Label Classification of Bert Inspection"
      ],
      "metadata": {
        "id": "VpZH542-SnEZ"
      }
    },
    {
      "cell_type": "code",
      "source": [
        "import pandas as pd\n",
        "df = pd.DataFrame({'Text': texts, 'Classification': predicted_labels,'PR_Importance_Weights':weights})\n",
        "df['Classification'] = df['Classification'].replace({'LABEL_0': 'bug', 'LABEL_1': 'feature'})\n",
        "df.to_csv('classification_results.csv', index=False)\n",
        "df"
      ],
      "metadata": {
        "id": "4j5MSmu6S2yO"
      },
      "execution_count": null,
      "outputs": []
    },
    {
      "cell_type": "markdown",
      "source": [
        "## **Step 2b:** K Means on Texts with Tensorflow"
      ],
      "metadata": {
        "id": "EN2Dpy46cy_P"
      }
    },
    {
      "cell_type": "code",
      "source": [
        "import tensorflow_hub as hub\n",
        "from sklearn.cluster import KMeans\n",
        "\n",
        "# Load a pre-trained text embedding model from TensorFlow Hub\n",
        "embed = hub.load(\"https://tfhub.dev/google/universal-sentence-encoder/4\")\n",
        "\n",
        "# Encode your text data into embeddings\n",
        "embeddings = embed(texts)\n",
        "\n",
        "# Convert embeddings to a NumPy array\n",
        "embeddings = np.array(embeddings)\n",
        "\n",
        "# Apply K-Means clustering\n",
        "kmeans = KMeans(n_clusters=2, random_state=42)\n",
        "kmeans.fit(embeddings)\n",
        "\n",
        "# Get cluster labels\n",
        "cluster_labels = kmeans.labels_\n",
        "df['Cluster'] = cluster_labels\n",
        "df.to_csv('classification_results.csv', index=False)\n",
        "df"
      ],
      "metadata": {
        "colab": {
          "base_uri": "https://localhost:8080/",
          "height": 418
        },
        "id": "ny112FBxdDfi",
        "outputId": "4ba93139-b51c-43cf-e83d-e597799d2a6e"
      },
      "execution_count": null,
      "outputs": [
        {
          "output_type": "stream",
          "name": "stderr",
          "text": [
            "/usr/local/lib/python3.10/dist-packages/sklearn/cluster/_kmeans.py:870: FutureWarning: The default value of `n_init` will change from 10 to 'auto' in 1.4. Set the value of `n_init` explicitly to suppress the warning\n",
            "  warnings.warn(\n"
          ]
        },
        {
          "output_type": "execute_result",
          "data": {
            "text/plain": [
              "                                                Text Classification   Weights  \\\n",
              "0  Given the following title and description, wou...            bug -0.328504   \n",
              "1  Given the following title and description, wou...            bug -0.142716   \n",
              "2  Given the following title and description, wou...            bug -0.328504   \n",
              "3  Given the following title and description, wou...            bug -0.328504   \n",
              "4  Given the following title and description, wou...            bug -0.659712   \n",
              "5  Given the following title and description, wou...            bug -0.328504   \n",
              "6  Given the following title and description, wou...            bug -0.555126   \n",
              "7  Given the following title, would you classify ...            bug -0.693147   \n",
              "8  Given the following title and description, wou...            bug -0.671386   \n",
              "9  Given the following title and description, wou...            bug -0.642454   \n",
              "\n",
              "   Cluster  \n",
              "0        1  \n",
              "1        1  \n",
              "2        1  \n",
              "3        1  \n",
              "4        0  \n",
              "5        1  \n",
              "6        0  \n",
              "7        0  \n",
              "8        0  \n",
              "9        0  "
            ],
            "text/html": [
              "\n",
              "  <div id=\"df-dca4cf66-ccb9-460b-b6d3-4e5fa5378c4e\" class=\"colab-df-container\">\n",
              "    <div>\n",
              "<style scoped>\n",
              "    .dataframe tbody tr th:only-of-type {\n",
              "        vertical-align: middle;\n",
              "    }\n",
              "\n",
              "    .dataframe tbody tr th {\n",
              "        vertical-align: top;\n",
              "    }\n",
              "\n",
              "    .dataframe thead th {\n",
              "        text-align: right;\n",
              "    }\n",
              "</style>\n",
              "<table border=\"1\" class=\"dataframe\">\n",
              "  <thead>\n",
              "    <tr style=\"text-align: right;\">\n",
              "      <th></th>\n",
              "      <th>Text</th>\n",
              "      <th>Classification</th>\n",
              "      <th>Weights</th>\n",
              "      <th>Cluster</th>\n",
              "    </tr>\n",
              "  </thead>\n",
              "  <tbody>\n",
              "    <tr>\n",
              "      <th>0</th>\n",
              "      <td>Given the following title and description, wou...</td>\n",
              "      <td>bug</td>\n",
              "      <td>-0.328504</td>\n",
              "      <td>1</td>\n",
              "    </tr>\n",
              "    <tr>\n",
              "      <th>1</th>\n",
              "      <td>Given the following title and description, wou...</td>\n",
              "      <td>bug</td>\n",
              "      <td>-0.142716</td>\n",
              "      <td>1</td>\n",
              "    </tr>\n",
              "    <tr>\n",
              "      <th>2</th>\n",
              "      <td>Given the following title and description, wou...</td>\n",
              "      <td>bug</td>\n",
              "      <td>-0.328504</td>\n",
              "      <td>1</td>\n",
              "    </tr>\n",
              "    <tr>\n",
              "      <th>3</th>\n",
              "      <td>Given the following title and description, wou...</td>\n",
              "      <td>bug</td>\n",
              "      <td>-0.328504</td>\n",
              "      <td>1</td>\n",
              "    </tr>\n",
              "    <tr>\n",
              "      <th>4</th>\n",
              "      <td>Given the following title and description, wou...</td>\n",
              "      <td>bug</td>\n",
              "      <td>-0.659712</td>\n",
              "      <td>0</td>\n",
              "    </tr>\n",
              "    <tr>\n",
              "      <th>5</th>\n",
              "      <td>Given the following title and description, wou...</td>\n",
              "      <td>bug</td>\n",
              "      <td>-0.328504</td>\n",
              "      <td>1</td>\n",
              "    </tr>\n",
              "    <tr>\n",
              "      <th>6</th>\n",
              "      <td>Given the following title and description, wou...</td>\n",
              "      <td>bug</td>\n",
              "      <td>-0.555126</td>\n",
              "      <td>0</td>\n",
              "    </tr>\n",
              "    <tr>\n",
              "      <th>7</th>\n",
              "      <td>Given the following title, would you classify ...</td>\n",
              "      <td>bug</td>\n",
              "      <td>-0.693147</td>\n",
              "      <td>0</td>\n",
              "    </tr>\n",
              "    <tr>\n",
              "      <th>8</th>\n",
              "      <td>Given the following title and description, wou...</td>\n",
              "      <td>bug</td>\n",
              "      <td>-0.671386</td>\n",
              "      <td>0</td>\n",
              "    </tr>\n",
              "    <tr>\n",
              "      <th>9</th>\n",
              "      <td>Given the following title and description, wou...</td>\n",
              "      <td>bug</td>\n",
              "      <td>-0.642454</td>\n",
              "      <td>0</td>\n",
              "    </tr>\n",
              "  </tbody>\n",
              "</table>\n",
              "</div>\n",
              "    <div class=\"colab-df-buttons\">\n",
              "\n",
              "  <div class=\"colab-df-container\">\n",
              "    <button class=\"colab-df-convert\" onclick=\"convertToInteractive('df-dca4cf66-ccb9-460b-b6d3-4e5fa5378c4e')\"\n",
              "            title=\"Convert this dataframe to an interactive table.\"\n",
              "            style=\"display:none;\">\n",
              "\n",
              "  <svg xmlns=\"http://www.w3.org/2000/svg\" height=\"24px\" viewBox=\"0 -960 960 960\">\n",
              "    <path d=\"M120-120v-720h720v720H120Zm60-500h600v-160H180v160Zm220 220h160v-160H400v160Zm0 220h160v-160H400v160ZM180-400h160v-160H180v160Zm440 0h160v-160H620v160ZM180-180h160v-160H180v160Zm440 0h160v-160H620v160Z\"/>\n",
              "  </svg>\n",
              "    </button>\n",
              "\n",
              "  <style>\n",
              "    .colab-df-container {\n",
              "      display:flex;\n",
              "      gap: 12px;\n",
              "    }\n",
              "\n",
              "    .colab-df-convert {\n",
              "      background-color: #E8F0FE;\n",
              "      border: none;\n",
              "      border-radius: 50%;\n",
              "      cursor: pointer;\n",
              "      display: none;\n",
              "      fill: #1967D2;\n",
              "      height: 32px;\n",
              "      padding: 0 0 0 0;\n",
              "      width: 32px;\n",
              "    }\n",
              "\n",
              "    .colab-df-convert:hover {\n",
              "      background-color: #E2EBFA;\n",
              "      box-shadow: 0px 1px 2px rgba(60, 64, 67, 0.3), 0px 1px 3px 1px rgba(60, 64, 67, 0.15);\n",
              "      fill: #174EA6;\n",
              "    }\n",
              "\n",
              "    .colab-df-buttons div {\n",
              "      margin-bottom: 4px;\n",
              "    }\n",
              "\n",
              "    [theme=dark] .colab-df-convert {\n",
              "      background-color: #3B4455;\n",
              "      fill: #D2E3FC;\n",
              "    }\n",
              "\n",
              "    [theme=dark] .colab-df-convert:hover {\n",
              "      background-color: #434B5C;\n",
              "      box-shadow: 0px 1px 3px 1px rgba(0, 0, 0, 0.15);\n",
              "      filter: drop-shadow(0px 1px 2px rgba(0, 0, 0, 0.3));\n",
              "      fill: #FFFFFF;\n",
              "    }\n",
              "  </style>\n",
              "\n",
              "    <script>\n",
              "      const buttonEl =\n",
              "        document.querySelector('#df-dca4cf66-ccb9-460b-b6d3-4e5fa5378c4e button.colab-df-convert');\n",
              "      buttonEl.style.display =\n",
              "        google.colab.kernel.accessAllowed ? 'block' : 'none';\n",
              "\n",
              "      async function convertToInteractive(key) {\n",
              "        const element = document.querySelector('#df-dca4cf66-ccb9-460b-b6d3-4e5fa5378c4e');\n",
              "        const dataTable =\n",
              "          await google.colab.kernel.invokeFunction('convertToInteractive',\n",
              "                                                    [key], {});\n",
              "        if (!dataTable) return;\n",
              "\n",
              "        const docLinkHtml = 'Like what you see? Visit the ' +\n",
              "          '<a target=\"_blank\" href=https://colab.research.google.com/notebooks/data_table.ipynb>data table notebook</a>'\n",
              "          + ' to learn more about interactive tables.';\n",
              "        element.innerHTML = '';\n",
              "        dataTable['output_type'] = 'display_data';\n",
              "        await google.colab.output.renderOutput(dataTable, element);\n",
              "        const docLink = document.createElement('div');\n",
              "        docLink.innerHTML = docLinkHtml;\n",
              "        element.appendChild(docLink);\n",
              "      }\n",
              "    </script>\n",
              "  </div>\n",
              "\n",
              "\n",
              "<div id=\"df-3b83470c-f201-4f6c-96c8-ea29c73eb713\">\n",
              "  <button class=\"colab-df-quickchart\" onclick=\"quickchart('df-3b83470c-f201-4f6c-96c8-ea29c73eb713')\"\n",
              "            title=\"Suggest charts\"\n",
              "            style=\"display:none;\">\n",
              "\n",
              "<svg xmlns=\"http://www.w3.org/2000/svg\" height=\"24px\"viewBox=\"0 0 24 24\"\n",
              "     width=\"24px\">\n",
              "    <g>\n",
              "        <path d=\"M19 3H5c-1.1 0-2 .9-2 2v14c0 1.1.9 2 2 2h14c1.1 0 2-.9 2-2V5c0-1.1-.9-2-2-2zM9 17H7v-7h2v7zm4 0h-2V7h2v10zm4 0h-2v-4h2v4z\"/>\n",
              "    </g>\n",
              "</svg>\n",
              "  </button>\n",
              "\n",
              "<style>\n",
              "  .colab-df-quickchart {\n",
              "      --bg-color: #E8F0FE;\n",
              "      --fill-color: #1967D2;\n",
              "      --hover-bg-color: #E2EBFA;\n",
              "      --hover-fill-color: #174EA6;\n",
              "      --disabled-fill-color: #AAA;\n",
              "      --disabled-bg-color: #DDD;\n",
              "  }\n",
              "\n",
              "  [theme=dark] .colab-df-quickchart {\n",
              "      --bg-color: #3B4455;\n",
              "      --fill-color: #D2E3FC;\n",
              "      --hover-bg-color: #434B5C;\n",
              "      --hover-fill-color: #FFFFFF;\n",
              "      --disabled-bg-color: #3B4455;\n",
              "      --disabled-fill-color: #666;\n",
              "  }\n",
              "\n",
              "  .colab-df-quickchart {\n",
              "    background-color: var(--bg-color);\n",
              "    border: none;\n",
              "    border-radius: 50%;\n",
              "    cursor: pointer;\n",
              "    display: none;\n",
              "    fill: var(--fill-color);\n",
              "    height: 32px;\n",
              "    padding: 0;\n",
              "    width: 32px;\n",
              "  }\n",
              "\n",
              "  .colab-df-quickchart:hover {\n",
              "    background-color: var(--hover-bg-color);\n",
              "    box-shadow: 0 1px 2px rgba(60, 64, 67, 0.3), 0 1px 3px 1px rgba(60, 64, 67, 0.15);\n",
              "    fill: var(--button-hover-fill-color);\n",
              "  }\n",
              "\n",
              "  .colab-df-quickchart-complete:disabled,\n",
              "  .colab-df-quickchart-complete:disabled:hover {\n",
              "    background-color: var(--disabled-bg-color);\n",
              "    fill: var(--disabled-fill-color);\n",
              "    box-shadow: none;\n",
              "  }\n",
              "\n",
              "  .colab-df-spinner {\n",
              "    border: 2px solid var(--fill-color);\n",
              "    border-color: transparent;\n",
              "    border-bottom-color: var(--fill-color);\n",
              "    animation:\n",
              "      spin 1s steps(1) infinite;\n",
              "  }\n",
              "\n",
              "  @keyframes spin {\n",
              "    0% {\n",
              "      border-color: transparent;\n",
              "      border-bottom-color: var(--fill-color);\n",
              "      border-left-color: var(--fill-color);\n",
              "    }\n",
              "    20% {\n",
              "      border-color: transparent;\n",
              "      border-left-color: var(--fill-color);\n",
              "      border-top-color: var(--fill-color);\n",
              "    }\n",
              "    30% {\n",
              "      border-color: transparent;\n",
              "      border-left-color: var(--fill-color);\n",
              "      border-top-color: var(--fill-color);\n",
              "      border-right-color: var(--fill-color);\n",
              "    }\n",
              "    40% {\n",
              "      border-color: transparent;\n",
              "      border-right-color: var(--fill-color);\n",
              "      border-top-color: var(--fill-color);\n",
              "    }\n",
              "    60% {\n",
              "      border-color: transparent;\n",
              "      border-right-color: var(--fill-color);\n",
              "    }\n",
              "    80% {\n",
              "      border-color: transparent;\n",
              "      border-right-color: var(--fill-color);\n",
              "      border-bottom-color: var(--fill-color);\n",
              "    }\n",
              "    90% {\n",
              "      border-color: transparent;\n",
              "      border-bottom-color: var(--fill-color);\n",
              "    }\n",
              "  }\n",
              "</style>\n",
              "\n",
              "  <script>\n",
              "    async function quickchart(key) {\n",
              "      const quickchartButtonEl =\n",
              "        document.querySelector('#' + key + ' button');\n",
              "      quickchartButtonEl.disabled = true;  // To prevent multiple clicks.\n",
              "      quickchartButtonEl.classList.add('colab-df-spinner');\n",
              "      try {\n",
              "        const charts = await google.colab.kernel.invokeFunction(\n",
              "            'suggestCharts', [key], {});\n",
              "      } catch (error) {\n",
              "        console.error('Error during call to suggestCharts:', error);\n",
              "      }\n",
              "      quickchartButtonEl.classList.remove('colab-df-spinner');\n",
              "      quickchartButtonEl.classList.add('colab-df-quickchart-complete');\n",
              "    }\n",
              "    (() => {\n",
              "      let quickchartButtonEl =\n",
              "        document.querySelector('#df-3b83470c-f201-4f6c-96c8-ea29c73eb713 button');\n",
              "      quickchartButtonEl.style.display =\n",
              "        google.colab.kernel.accessAllowed ? 'block' : 'none';\n",
              "    })();\n",
              "  </script>\n",
              "</div>\n",
              "    </div>\n",
              "  </div>\n"
            ]
          },
          "metadata": {},
          "execution_count": 34
        }
      ]
    },
    {
      "cell_type": "markdown",
      "source": [
        "# **Step A for CNN** Setup TPU"
      ],
      "metadata": {
        "id": "ViSbiFG38d33"
      }
    },
    {
      "cell_type": "code",
      "source": [
        "resolver = tf.distribute.cluster_resolver.TPUClusterResolver(tpu='grpc://' + os.environ['COLAB_TPU_ADDR'])\n",
        "tf.config.experimental_connect_to_cluster(resolver)\n",
        "tf.tpu.experimental.initialize_tpu_system(resolver)\n",
        "strategy = tf.distribute.experimental.TPUStrategy(resolver)"
      ],
      "metadata": {
        "colab": {
          "base_uri": "https://localhost:8080/"
        },
        "id": "qSSHMlFZ8mXJ",
        "outputId": "40e36514-fbd9-4d6d-85ed-b2049bc48f86"
      },
      "execution_count": null,
      "outputs": [
        {
          "output_type": "stream",
          "name": "stderr",
          "text": [
            "WARNING:tensorflow:TPU system grpc://10.68.250.186:8470 has already been initialized. Reinitializing the TPU can cause previously created variables on TPU to be lost.\n",
            "WARNING:absl:`tf.distribute.experimental.TPUStrategy` is deprecated, please use  the non experimental symbol `tf.distribute.TPUStrategy` instead.\n"
          ]
        }
      ]
    },
    {
      "cell_type": "markdown",
      "source": [
        "## **Step B for CNN:** Build CNN with Keras"
      ],
      "metadata": {
        "id": "G4kR5qlX9JNl"
      }
    },
    {
      "cell_type": "code",
      "source": [
        "from keras.models import Sequential\n",
        "from keras.layers import Embedding, Conv1D, MaxPooling1D, GlobalMaxPooling1D, Dense\n",
        "\n",
        "def build_model():\n",
        "    model = Sequential()\n",
        "    model.add(Embedding(10000, 128, input_length=200))\n",
        "    model.add(Conv1D(128, 5, activation='relu'))\n",
        "    model.add(MaxPooling1D(5))\n",
        "    model.add(Conv1D(128, 5, activation='relu'))\n",
        "    model.add(GlobalMaxPooling1D())\n",
        "    model.add(Dense(2, activation='softmax'))  # 2 for 'bug' and 'feature'\n",
        "    return model\n"
      ],
      "metadata": {
        "id": "w2NCxETS9RB5"
      },
      "execution_count": null,
      "outputs": []
    },
    {
      "cell_type": "markdown",
      "source": [
        "## **Step C for CNN:** Compile CNN"
      ],
      "metadata": {
        "id": "1xtVG50R9V4B"
      }
    },
    {
      "cell_type": "code",
      "source": [
        "with strategy.scope():\n",
        "    model = build_model()\n",
        "    model.compile(optimizer='adam', loss='categorical_crossentropy', metrics=['accuracy'])"
      ],
      "metadata": {
        "id": "PpCcE0G89i6t"
      },
      "execution_count": null,
      "outputs": []
    },
    {
      "cell_type": "markdown",
      "source": [
        "## **Step D for CNN:** Train Model"
      ],
      "metadata": {
        "id": "mGtbKEV-9lWK"
      }
    },
    {
      "cell_type": "code",
      "source": [
        "history = model.fit(X_train, y_train, epochs=10, batch_size=128, validation_data=(X_test, y_test))"
      ],
      "metadata": {
        "colab": {
          "base_uri": "https://localhost:8080/"
        },
        "id": "Z-WD0OTA905C",
        "outputId": "64acc3fb-e41c-4652-ba6e-8db9a62a38e4"
      },
      "execution_count": null,
      "outputs": [
        {
          "output_type": "stream",
          "name": "stdout",
          "text": [
            "Epoch 1/10\n",
            "14/14 [==============================] - 2s 121ms/step - loss: 0.1368 - accuracy: 0.9462 - val_loss: 0.1954 - val_accuracy: 0.9314\n",
            "Epoch 2/10\n",
            "14/14 [==============================] - 1s 75ms/step - loss: 0.1301 - accuracy: 0.9462 - val_loss: 0.1931 - val_accuracy: 0.9314\n",
            "Epoch 3/10\n",
            "14/14 [==============================] - 1s 71ms/step - loss: 0.1205 - accuracy: 0.9531 - val_loss: 0.1965 - val_accuracy: 0.9314\n",
            "Epoch 4/10\n",
            "14/14 [==============================] - 1s 74ms/step - loss: 0.1061 - accuracy: 0.9668 - val_loss: 0.2022 - val_accuracy: 0.9314\n",
            "Epoch 5/10\n",
            "14/14 [==============================] - 1s 86ms/step - loss: 0.0851 - accuracy: 0.9742 - val_loss: 0.2115 - val_accuracy: 0.9268\n",
            "Epoch 6/10\n",
            "14/14 [==============================] - 1s 89ms/step - loss: 0.0569 - accuracy: 0.9782 - val_loss: 0.2478 - val_accuracy: 0.9245\n",
            "Epoch 7/10\n",
            "14/14 [==============================] - 1s 86ms/step - loss: 0.0406 - accuracy: 0.9891 - val_loss: 0.2566 - val_accuracy: 0.9291\n",
            "Epoch 8/10\n",
            "14/14 [==============================] - 1s 76ms/step - loss: 0.0274 - accuracy: 0.9897 - val_loss: 0.3415 - val_accuracy: 0.9268\n",
            "Epoch 9/10\n",
            "14/14 [==============================] - 1s 71ms/step - loss: 0.0223 - accuracy: 0.9937 - val_loss: 0.3250 - val_accuracy: 0.9291\n",
            "Epoch 10/10\n",
            "14/14 [==============================] - 1s 75ms/step - loss: 0.0210 - accuracy: 0.9943 - val_loss: 0.3512 - val_accuracy: 0.9291\n"
          ]
        }
      ]
    },
    {
      "cell_type": "markdown",
      "source": [
        "## **Step E for CNN:** Test Model"
      ],
      "metadata": {
        "id": "Koi2dt_b_0o3"
      }
    },
    {
      "cell_type": "code",
      "source": [
        "test_loss, test_accuracy = model.evaluate(X_test, y_test)\n",
        "predictions = model.predict(X_test)\n",
        "predicted_labels = predictions.argmax(axis=1)\n",
        "print(f\"Test accuracy: {test_accuracy * 100:.2f}%, Test loss: {test_loss}\")"
      ],
      "metadata": {
        "colab": {
          "base_uri": "https://localhost:8080/"
        },
        "id": "WYLVZgEIFK_-",
        "outputId": "1d7645c8-693a-4be3-96a1-96d2a6c89455"
      },
      "execution_count": null,
      "outputs": [
        {
          "output_type": "stream",
          "name": "stdout",
          "text": [
            "14/14 [==============================] - 3s 23ms/step - loss: 0.3512 - accuracy: 0.9291\n",
            "14/14 [==============================] - 1s 14ms/step\n",
            "Test accuracy: 92.91%, Test loss: 0.35124388337135315\n"
          ]
        }
      ]
    },
    {
      "cell_type": "markdown",
      "source": [
        "## **Step F for CNN:** Analysis & Visualization"
      ],
      "metadata": {
        "id": "W0ldeSfdFQx9"
      }
    },
    {
      "cell_type": "code",
      "source": [
        "from sklearn.metrics import classification_report\n",
        "true_labels = y_test.argmax(axis=1)\n",
        "print(classification_report(true_labels, predicted_labels))"
      ],
      "metadata": {
        "colab": {
          "base_uri": "https://localhost:8080/"
        },
        "id": "SDhT3HffFhD2",
        "outputId": "ad3273a1-ee8c-4a69-9003-55d6dd4603b4"
      },
      "execution_count": null,
      "outputs": [
        {
          "output_type": "stream",
          "name": "stdout",
          "text": [
            "              precision    recall  f1-score   support\n",
            "\n",
            "           0       0.94      0.99      0.96       407\n",
            "           1       0.44      0.13      0.21        30\n",
            "\n",
            "    accuracy                           0.93       437\n",
            "   macro avg       0.69      0.56      0.58       437\n",
            "weighted avg       0.91      0.93      0.91       437\n",
            "\n"
          ]
        }
      ]
    }
  ]
}